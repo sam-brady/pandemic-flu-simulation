{
 "cells": [
  {
   "cell_type": "code",
   "execution_count": 1,
   "id": "expensive-fourth",
   "metadata": {},
   "outputs": [],
   "source": [
    "\n",
    "import pandas as pd\n",
    "import numpy as np\n",
    "\n",
    "from numpy import random\n",
    "from scipy.stats import binom\n",
    "\n",
    "import matplotlib.pyplot as plt\n",
    "import seaborn as sns\n",
    "\n",
    "# Remove top and right chart borders\n",
    "sns.despine(top=True, right=True, left=False, bottom=False)\n",
    "\n",
    "# Configure Jupyter so figures appear in the notebook\n",
    "%matplotlib inline\n",
    "\n",
    "# Configure Jupyter to display the assigned value after an assignment\n",
    "%config InteractiveShell.ast_node_interactivity='last_expr_or_assign'\n",
    "\n",
    "# Set pandas to show all columns \n",
    "pd.set_option('display.max_columns', None)\n"
   ]
  },
  {
   "cell_type": "code",
   "execution_count": null,
   "id": "coral-relative",
   "metadata": {},
   "outputs": [],
   "source": []
  },
  {
   "cell_type": "code",
   "execution_count": 2,
   "id": "asian-chain",
   "metadata": {},
   "outputs": [],
   "source": [
    "# possible school calendar\n",
    "\n",
    "#cal = [1, 1, 1, 1, 0, 0, 0, 1, 1, 1, 1, 1, 0, 0, 1, 1, 1, 1, 1, 0, 0, 0, 1, 1, 1, 1, 0, 0, \n",
    "#       1, 1, 1, 1, 1, 0, 0, 1, 1, 1, 1, 1, 0, 0, 1, 1, 1, 1, 1, 0, 0, 0, 0, 0, 0, 0, 0, 0, \n",
    "#      1, 1, 1, 1, 1, 0, 0, 1, 1, 1, 1, 1, 0, 0, 1, 1, 1, 1, 1, 0, 0, 1, 0, 1, 1, 1, 0, 0, \n",
    "#      1, 1, 0, 1, 1, 0, 0, 1, 1, 1, 1, 1, 0, 0, 1, 1, 1, 0, 0, 0, 0, 1, 1, 1, 1, 1, 0, 0, \n",
    "#      1, 1, 1, 1, 1, 0, 0, 1, 1, 1, 1, 1, 0, 0, 0, 0, 0, 0, 0, 0, 0, 0, 0, 0, 0, 0, 0, 0,\n",
    "#      0, 1, 1, 1, 1, 0, 0, 1, 1, 1, 1, 1, 0, 0, 0, 1, 1, 1, 1, 0, 0, 1, 1, 1, 1, 1, 0, 0,\n",
    "#      1, 1, 1, 1, 1, 0, 0, 1, 1, 1, 1, 1, 0, 0, 0, 1, 1, 1, 1, 0, 0, 1, 1, 1, 1, 1, 0, 0,\n",
    "#      1, 1, 1, 1, 1, 0, 0, 1, 1, 1, 1, 1, 0, 0, 0, 0, 0, 0, 0, 0, 0, 1, 1, 1, 1, 0, 0, 0, \n",
    "#      1, 1, 1, 1, 0, 0, 0, 1, 1, 1, 1, 1, 0, 0, 1, 1, 1, 1, 1, 0, 0, 1, 1, 1, 1, 1, 0, 0, \n",
    "#      1, 1, 1, 1, 1, 0, 0, 1, 1, 1, 1, 1, 0, 0, 1, 1, 1, 1, 1, 0, 0, 1, 1, 1, 1, 1, 0, 0, \n",
    "#      1, 1, 1, 1, 1, 0, 0]"
   ]
  },
  {
   "cell_type": "code",
   "execution_count": null,
   "id": "lasting-professional",
   "metadata": {},
   "outputs": [],
   "source": []
  },
  {
   "cell_type": "code",
   "execution_count": null,
   "id": "changed-saver",
   "metadata": {},
   "outputs": [],
   "source": []
  },
  {
   "cell_type": "code",
   "execution_count": 3,
   "id": "complimentary-stanley",
   "metadata": {},
   "outputs": [
    {
     "data": {
      "text/plain": [
       "array([0])"
      ]
     },
     "execution_count": 3,
     "metadata": {},
     "output_type": "execute_result"
    }
   ],
   "source": [
    "# 1 bernoulli trial for 1 infected person\n",
    "\n",
    "random.binomial(n=1, p=0.02, size=1)\n"
   ]
  },
  {
   "cell_type": "code",
   "execution_count": 4,
   "id": "palestinian-restriction",
   "metadata": {},
   "outputs": [
    {
     "data": {
      "text/plain": [
       "array([0, 0, 0, 0, 0, 0, 0, 0, 0, 0, 0, 0, 0, 0, 0, 0, 0, 0, 0, 0])"
      ]
     },
     "execution_count": 4,
     "metadata": {},
     "output_type": "execute_result"
    }
   ],
   "source": [
    "# 20 bernoulli trials for 1 infected person and 20 susceptible students\n",
    "\n",
    "random.binomial(n=1, p=0.02, size=20)"
   ]
  },
  {
   "cell_type": "code",
   "execution_count": 5,
   "id": "twelve-iraqi",
   "metadata": {},
   "outputs": [
    {
     "data": {
      "text/plain": [
       "array([[[0, 1, 0, 0, 0, 0, 0, 0, 0, 0, 0, 0, 0, 0, 0]],\n",
       "\n",
       "       [[0, 1, 0, 0, 0, 0, 0, 0, 0, 0, 0, 0, 0, 0, 0]],\n",
       "\n",
       "       [[0, 0, 0, 0, 0, 0, 0, 0, 0, 0, 0, 0, 0, 0, 0]],\n",
       "\n",
       "       [[0, 0, 0, 0, 0, 0, 0, 0, 0, 0, 0, 0, 0, 0, 0]],\n",
       "\n",
       "       [[0, 0, 0, 0, 0, 0, 0, 0, 0, 0, 0, 0, 0, 0, 0]]])"
      ]
     },
     "execution_count": 5,
     "metadata": {},
     "output_type": "execute_result"
    }
   ],
   "source": [
    "# 15 bernoulli trials each for 5 infected people and 15 susceptible students\n",
    "\n",
    "random.binomial(n=1, p=0.02, size=(5, 1, 15))"
   ]
  },
  {
   "cell_type": "code",
   "execution_count": 6,
   "id": "upset-madonna",
   "metadata": {},
   "outputs": [
    {
     "data": {
      "text/plain": [
       "3"
      ]
     },
     "execution_count": 6,
     "metadata": {},
     "output_type": "execute_result"
    }
   ],
   "source": [
    "# adding up all new infections above\n",
    "\n",
    "np.sum(random.binomial(n=1, p=0.02, size=(5, 1, 15)))"
   ]
  },
  {
   "cell_type": "code",
   "execution_count": 7,
   "id": "mysterious-davis",
   "metadata": {},
   "outputs": [
    {
     "data": {
      "text/plain": [
       "array([[[0, 0, 0],\n",
       "        [0, 0, 0]],\n",
       "\n",
       "       [[0, 0, 0],\n",
       "        [0, 0, 0]],\n",
       "\n",
       "       [[0, 0, 0],\n",
       "        [0, 0, 0]],\n",
       "\n",
       "       [[0, 0, 0],\n",
       "        [0, 0, 0]],\n",
       "\n",
       "       [[0, 1, 0],\n",
       "        [0, 0, 0]]])"
      ]
     },
     "execution_count": 7,
     "metadata": {},
     "output_type": "execute_result"
    }
   ],
   "source": [
    "# bernoulli trials for 30 classroom seats at tables\n",
    "\n",
    "random.binomial(n=1, p=0.02, size=(5, 2, 3))"
   ]
  },
  {
   "cell_type": "code",
   "execution_count": 8,
   "id": "derived-chase",
   "metadata": {},
   "outputs": [
    {
     "data": {
      "text/plain": [
       "array([[[0, 0, 0, 0, 0, 0, 0, 0, 0, 0, 1, 0, 0, 0, 0, 0, 0, 0, 0, 0],\n",
       "        [0, 0, 0, 0, 0, 0, 0, 0, 0, 0, 0, 0, 0, 0, 0, 0, 0, 0, 0, 0],\n",
       "        [0, 0, 0, 0, 0, 0, 0, 0, 0, 0, 0, 0, 0, 0, 0, 0, 0, 0, 0, 0]],\n",
       "\n",
       "       [[0, 0, 0, 0, 0, 0, 0, 0, 0, 0, 0, 0, 0, 0, 0, 0, 0, 0, 0, 0],\n",
       "        [0, 0, 0, 0, 0, 0, 0, 0, 0, 0, 0, 0, 0, 0, 0, 0, 1, 0, 0, 0],\n",
       "        [0, 0, 0, 0, 0, 0, 0, 0, 0, 0, 0, 0, 0, 0, 0, 0, 0, 0, 0, 0]]])"
      ]
     },
     "execution_count": 8,
     "metadata": {},
     "output_type": "execute_result"
    }
   ],
   "source": [
    "# bernoulli trials for 120 airplane seats (just coach)\n",
    "\n",
    "random.binomial(n=1, p=0.02, size=(2, 3, 20))"
   ]
  },
  {
   "cell_type": "code",
   "execution_count": 9,
   "id": "tribal-memory",
   "metadata": {},
   "outputs": [
    {
     "data": {
      "text/plain": [
       "0.019896"
      ]
     },
     "execution_count": 9,
     "metadata": {},
     "output_type": "execute_result"
    }
   ],
   "source": [
    "# expected value for a bernoulli trial E[x] = p = 0.02\n",
    "\n",
    "count = 0.0\n",
    "n = 1000000\n",
    "\n",
    "for t in range(0, n):\n",
    "\n",
    "    curr = np.sum(random.binomial(n=1, p=0.02, size=1))\n",
    "    count += curr\n",
    "\n",
    "count/n"
   ]
  },
  {
   "cell_type": "code",
   "execution_count": 10,
   "id": "domestic-warrant",
   "metadata": {},
   "outputs": [
    {
     "data": {
      "text/plain": [
       "0.400585"
      ]
     },
     "execution_count": 10,
     "metadata": {},
     "output_type": "execute_result"
    }
   ],
   "source": [
    "# expected value for a binomial dist or 20 bernoulli trials E[X] = np = 20 * 0.02 = 0.4\n",
    "\n",
    "count = 0.0\n",
    "n = 1000000\n",
    "\n",
    "for t in range(0, n):\n",
    "\n",
    "    curr = np.sum(random.binomial(n=1, p=0.02, size=20))\n",
    "    count += curr\n",
    "\n",
    "count/n\n"
   ]
  },
  {
   "cell_type": "code",
   "execution_count": 11,
   "id": "vulnerable-cross",
   "metadata": {},
   "outputs": [
    {
     "data": {
      "text/plain": [
       "1.199225"
      ]
     },
     "execution_count": 11,
     "metadata": {},
     "output_type": "execute_result"
    }
   ],
   "source": [
    "# expected value for a binimial dist or 20 bernoulli trials with 3 infected people E[X] = Sum(n)p = (20 + 20 + 20) * 0.02 = 1.20\n",
    "\n",
    "count = 0.0\n",
    "n = 1000000\n",
    "\n",
    "for t in range(0, n):\n",
    "\n",
    "    curr = np.sum(random.binomial(n=1, p=0.02, size=(3, 1, 20)))\n",
    "    count += curr\n",
    "\n",
    "count/n\n"
   ]
  },
  {
   "cell_type": "code",
   "execution_count": 12,
   "id": "respected-mauritius",
   "metadata": {},
   "outputs": [
    {
     "data": {
      "text/plain": [
       "0.2724930496959568"
      ]
     },
     "execution_count": 12,
     "metadata": {},
     "output_type": "execute_result"
    }
   ],
   "source": [
    "# pmf P(X=1) \n",
    "binom.pmf(k=1, n=20, p=0.02)"
   ]
  },
  {
   "cell_type": "code",
   "execution_count": 13,
   "id": "adult-recorder",
   "metadata": {},
   "outputs": [
    {
     "data": {
      "text/plain": [
       "0.6676079717550945"
      ]
     },
     "execution_count": 13,
     "metadata": {},
     "output_type": "execute_result"
    }
   ],
   "source": [
    "# pmf P(X=0)\n",
    "\n",
    "binom.pmf(k=0, n=20, p=0.02)"
   ]
  },
  {
   "cell_type": "code",
   "execution_count": 14,
   "id": "modular-arrival",
   "metadata": {},
   "outputs": [
    {
     "data": {
      "text/plain": [
       "0.33239202824490555"
      ]
     },
     "execution_count": 14,
     "metadata": {},
     "output_type": "execute_result"
    }
   ],
   "source": [
    "# pmf P(X!=0)\n",
    "\n",
    "1 - binom.pmf(k=0, n=20, p=0.02)"
   ]
  },
  {
   "cell_type": "code",
   "execution_count": 15,
   "id": "virtual-access",
   "metadata": {},
   "outputs": [
    {
     "data": {
      "text/plain": [
       "0.05989897854894877"
      ]
     },
     "execution_count": 15,
     "metadata": {},
     "output_type": "execute_result"
    }
   ],
   "source": [
    "# pmf P(X>1)\n",
    "\n",
    "1 - (binom.pmf(k=1, n=20, p=0.02) + binom.pmf(k=0, n=20, p=0.02))"
   ]
  },
  {
   "cell_type": "code",
   "execution_count": 16,
   "id": "running-discussion",
   "metadata": {},
   "outputs": [
    {
     "data": {
      "image/png": "[encoded data removed]",
      "text/plain": [
       "<Figure size 1080x288 with 1 Axes>"
      ]
     },
     "metadata": {
      "needs_background": "light"
     },
     "output_type": "display_data"
    }
   ],
   "source": [
    "\n",
    "pmf_vals = []\n",
    "\n",
    "for K in range(0, 4):\n",
    "    \n",
    "    cur_k = binom.pmf(k=K , n=20, p=0.02)\n",
    "    pmf_vals.append(cur_k)\n",
    "\n",
    "valsdf = pd.DataFrame(pmf_vals)    \n",
    "\n",
    "\n",
    "\n",
    "plt.figure(figsize=(15,4))\n",
    "g = sns.barplot(x=valsdf.index, y=valsdf[0], data=valsdf, palette ='YlGnBu_r') \n",
    "plt.xlabel('P(X = x)')\n",
    "plt.ylabel('Probability', fontsize=10)\n",
    "plt.title('Probabilities of Discrete Random Variables for the Binomial Distribution \\n with n=20 and p=0.02')\n",
    "\n",
    "for index, row in valsdf.iterrows():\n",
    "    g.text(row.name , row[0]+0.025, round(row[0], 2), color='black', ha=\"center\", fontsize=15)\n",
    "\n",
    "plt.show()    \n",
    "    \n",
    "    \n",
    "    "
   ]
  },
  {
   "cell_type": "code",
   "execution_count": 17,
   "id": "legitimate-mumbai",
   "metadata": {},
   "outputs": [],
   "source": [
    "def init(S0, I0, R0):\n",
    "    \"\"\"\n",
    "    Initializes SIR dataframe with initial values.\n",
    "    \n",
    "    S0 = number of susceptible people day 0\n",
    "    I0 = number of infected people day 0\n",
    "    R0 = number of recovered people day 0\n",
    "    \n",
    "    returns: Initialized dataframe\n",
    "    \"\"\"\n",
    "    intitialize = np.array([[S0, I0, R0]])\n",
    "\n",
    "    new_df = pd.DataFrame(intitialize , columns=['S', 'I', 'R'])\n",
    "    \n",
    "    return new_df"
   ]
  },
  {
   "cell_type": "code",
   "execution_count": 18,
   "id": "quiet-kenya",
   "metadata": {},
   "outputs": [],
   "source": [
    "def new_infections(S, I, p):\n",
    "    \"\"\"\n",
    "    Calculates the number of new infectious contacts per day.\n",
    "    For mutually inclusive events.\n",
    "    \n",
    "    S = number of susceptible people\n",
    "    I = number of Infected people\n",
    "    p = probability of infectious contact\n",
    "    \n",
    "    returns: Total number of new infections\n",
    "    \"\"\"\n",
    "    new_contacts = random.binomial(n=1, p=0.02, size=(I, 1, S))\n",
    "    total_contacts = int(np.sum(new_contacts))\n",
    "    \n",
    "    count_mult = np.zeros((1, S))\n",
    "    for i in range(I):\n",
    "        count_mult += new_contacts[i]\n",
    "    \n",
    "    num_mult = np.sum(np.greater(count_mult, 1))    \n",
    "        \n",
    "    new_total_infections = total_contacts - num_mult\n",
    "       \n",
    "    return new_total_infections\n",
    "    "
   ]
  },
  {
   "cell_type": "code",
   "execution_count": 19,
   "id": "sapphire-grave",
   "metadata": {},
   "outputs": [],
   "source": [
    "def update(t, rec, S0, I0, R0, df):\n",
    "    \"\"\"\n",
    "    Updates the dataframe of SIR values, for every t.\n",
    "\n",
    "    rec = number of days to recover from being infectious\n",
    "    S0 = number of susceptible people day 0\n",
    "    I0 = number of infected people day 0\n",
    "    R0 = number of recovered people day 0\n",
    "    df = dataframe of SIR values already initialized or started\n",
    "    \n",
    "    returns: Same dataframe with updated SIR values for new t\n",
    "    \"\"\"\n",
    "    s, i, r = df['S'].iloc[t-1], df['I'].iloc[t-1], df['R'].iloc[t-1]\n",
    "\n",
    "    infected = new_infections(S=s, I=i, p=0.02)    \n",
    "    \n",
    "    if t==rec:\n",
    "        recovered = 1\n",
    "    elif t > rec:\n",
    "        recovered = df['S'].iloc[t-(rec+1)] - df['S'].iloc[t-rec]\n",
    "    else:\n",
    "        recovered = 0\n",
    "      \n",
    "    s -= infected\n",
    "    i += infected - recovered\n",
    "    r += recovered\n",
    "    \n",
    "    if i < 0:\n",
    "        df.loc[len(df.index)] = [s, 0, r]\n",
    "    elif s == S0 and i == I0 and r == R0 and t >= rec:    \n",
    "        df.loc[len(df.index)] = [S0, 0, I0 + R0]\n",
    "    else:\n",
    "        df.loc[len(df.index)] = [s, i, r] \n",
    "        \n",
    "    return df\n"
   ]
  },
  {
   "cell_type": "code",
   "execution_count": 20,
   "id": "labeled-childhood",
   "metadata": {},
   "outputs": [],
   "source": [
    "def simulation(S0, I0, R0, rec, days, sims, verbose=False, summary=False):  \n",
    "    \"\"\"\n",
    "    Runs a SIR simulation and returns a dataframe of SIR values for each day.\n",
    "    Optional indvidual and summary metrics can be printed. \n",
    "    \n",
    "    S0 = number of susceptible people day 0\n",
    "    I0 = number of infected people day 0\n",
    "    R0 = number of recovered people day 0\n",
    "    rec = number of days to recover from being infectious\n",
    "    days = number of days to run simulation for\n",
    "    sims = number of simulations to run\n",
    "    verbose = if True will print metrics for each simulation\n",
    "    summary = if True will print metrics for average of all simulations\n",
    "    \n",
    "    returns: Dataframe of SIR values for sims number of simulations of length days\n",
    "    \"\"\" \n",
    "    df = pd.DataFrame()\n",
    "    \n",
    "    length_list = []\n",
    "    num_sick_list = []\n",
    "    \n",
    "    for s in range(0, sims):\n",
    "    \n",
    "        run = init(S0, I0, R0)\n",
    "    \n",
    "        for t in range(1, days):\n",
    "            update(t, rec, S0, I0, R0, run)\n",
    "            \n",
    "        df = df.append(run.T, ignore_index=False)    \n",
    "        \n",
    "        length = run['I'].idxmin([1, True])\n",
    "        length_list.append(length)\n",
    "    \n",
    "        n_sick = max(run['S']) - min(run['S'])\n",
    "        num_sick_list.append(n_sick)\n",
    "    \n",
    "        if verbose == True:      \n",
    "            print(\"The pandemic flu sim #{} lasted for {} days.\".format(s+1, length))\n",
    "            \n",
    "    if summary == True:        \n",
    "        print('\\n')\n",
    "        print('***********************************************************')\n",
    "        print(\"The average length of a pandemic was {} days.\".format(round(sum(length_list)/sims, 2)))\n",
    "        print(\"The average number of people who became infected was {}.\".format(round(sum(num_sick_list)/sims, 2)))\n",
    "        print('***********************************************************')\n",
    "            \n",
    "    return df"
   ]
  },
  {
   "cell_type": "code",
   "execution_count": 21,
   "id": "sophisticated-underground",
   "metadata": {},
   "outputs": [
    {
     "name": "stdout",
     "output_type": "stream",
     "text": [
      "\n",
      "\n",
      "***********************************************************\n",
      "The average length of a pandemic was 7.94 days.\n",
      "The average number of people who became infected was 4.71.\n",
      "***********************************************************\n"
     ]
    },
    {
     "data": {
      "text/html": [
       "<div>\n",
       "<style scoped>\n",
       "    .dataframe tbody tr th:only-of-type {\n",
       "        vertical-align: middle;\n",
       "    }\n",
       "\n",
       "    .dataframe tbody tr th {\n",
       "        vertical-align: top;\n",
       "    }\n",
       "\n",
       "    .dataframe thead th {\n",
       "        text-align: right;\n",
       "    }\n",
       "</style>\n",
       "<table border=\"1\" class=\"dataframe\">\n",
       "  <thead>\n",
       "    <tr style=\"text-align: right;\">\n",
       "      <th></th>\n",
       "      <th>0</th>\n",
       "      <th>1</th>\n",
       "      <th>2</th>\n",
       "      <th>3</th>\n",
       "      <th>4</th>\n",
       "      <th>5</th>\n",
       "      <th>6</th>\n",
       "      <th>7</th>\n",
       "      <th>8</th>\n",
       "      <th>9</th>\n",
       "      <th>10</th>\n",
       "      <th>11</th>\n",
       "      <th>12</th>\n",
       "      <th>13</th>\n",
       "      <th>14</th>\n",
       "      <th>15</th>\n",
       "      <th>16</th>\n",
       "      <th>17</th>\n",
       "      <th>18</th>\n",
       "      <th>19</th>\n",
       "      <th>20</th>\n",
       "      <th>21</th>\n",
       "      <th>22</th>\n",
       "      <th>23</th>\n",
       "      <th>24</th>\n",
       "      <th>25</th>\n",
       "      <th>26</th>\n",
       "      <th>27</th>\n",
       "      <th>28</th>\n",
       "      <th>29</th>\n",
       "    </tr>\n",
       "  </thead>\n",
       "  <tbody>\n",
       "    <tr>\n",
       "      <th>S</th>\n",
       "      <td>20</td>\n",
       "      <td>20</td>\n",
       "      <td>20</td>\n",
       "      <td>20</td>\n",
       "      <td>20</td>\n",
       "      <td>20</td>\n",
       "      <td>20</td>\n",
       "      <td>20</td>\n",
       "      <td>20</td>\n",
       "      <td>20</td>\n",
       "      <td>20</td>\n",
       "      <td>20</td>\n",
       "      <td>20</td>\n",
       "      <td>20</td>\n",
       "      <td>20</td>\n",
       "      <td>20</td>\n",
       "      <td>20</td>\n",
       "      <td>20</td>\n",
       "      <td>20</td>\n",
       "      <td>20</td>\n",
       "      <td>20</td>\n",
       "      <td>20</td>\n",
       "      <td>20</td>\n",
       "      <td>20</td>\n",
       "      <td>20</td>\n",
       "      <td>20</td>\n",
       "      <td>20</td>\n",
       "      <td>20</td>\n",
       "      <td>20</td>\n",
       "      <td>20</td>\n",
       "    </tr>\n",
       "    <tr>\n",
       "      <th>I</th>\n",
       "      <td>1</td>\n",
       "      <td>1</td>\n",
       "      <td>1</td>\n",
       "      <td>0</td>\n",
       "      <td>0</td>\n",
       "      <td>0</td>\n",
       "      <td>0</td>\n",
       "      <td>0</td>\n",
       "      <td>0</td>\n",
       "      <td>0</td>\n",
       "      <td>0</td>\n",
       "      <td>0</td>\n",
       "      <td>0</td>\n",
       "      <td>0</td>\n",
       "      <td>0</td>\n",
       "      <td>0</td>\n",
       "      <td>0</td>\n",
       "      <td>0</td>\n",
       "      <td>0</td>\n",
       "      <td>0</td>\n",
       "      <td>0</td>\n",
       "      <td>0</td>\n",
       "      <td>0</td>\n",
       "      <td>0</td>\n",
       "      <td>0</td>\n",
       "      <td>0</td>\n",
       "      <td>0</td>\n",
       "      <td>0</td>\n",
       "      <td>0</td>\n",
       "      <td>0</td>\n",
       "    </tr>\n",
       "    <tr>\n",
       "      <th>R</th>\n",
       "      <td>0</td>\n",
       "      <td>0</td>\n",
       "      <td>0</td>\n",
       "      <td>1</td>\n",
       "      <td>1</td>\n",
       "      <td>1</td>\n",
       "      <td>1</td>\n",
       "      <td>1</td>\n",
       "      <td>1</td>\n",
       "      <td>1</td>\n",
       "      <td>1</td>\n",
       "      <td>1</td>\n",
       "      <td>1</td>\n",
       "      <td>1</td>\n",
       "      <td>1</td>\n",
       "      <td>1</td>\n",
       "      <td>1</td>\n",
       "      <td>1</td>\n",
       "      <td>1</td>\n",
       "      <td>1</td>\n",
       "      <td>1</td>\n",
       "      <td>1</td>\n",
       "      <td>1</td>\n",
       "      <td>1</td>\n",
       "      <td>1</td>\n",
       "      <td>1</td>\n",
       "      <td>1</td>\n",
       "      <td>1</td>\n",
       "      <td>1</td>\n",
       "      <td>1</td>\n",
       "    </tr>\n",
       "    <tr>\n",
       "      <th>S</th>\n",
       "      <td>20</td>\n",
       "      <td>17</td>\n",
       "      <td>17</td>\n",
       "      <td>16</td>\n",
       "      <td>16</td>\n",
       "      <td>16</td>\n",
       "      <td>16</td>\n",
       "      <td>16</td>\n",
       "      <td>16</td>\n",
       "      <td>16</td>\n",
       "      <td>16</td>\n",
       "      <td>16</td>\n",
       "      <td>16</td>\n",
       "      <td>16</td>\n",
       "      <td>16</td>\n",
       "      <td>16</td>\n",
       "      <td>16</td>\n",
       "      <td>16</td>\n",
       "      <td>16</td>\n",
       "      <td>16</td>\n",
       "      <td>16</td>\n",
       "      <td>16</td>\n",
       "      <td>16</td>\n",
       "      <td>16</td>\n",
       "      <td>16</td>\n",
       "      <td>16</td>\n",
       "      <td>16</td>\n",
       "      <td>16</td>\n",
       "      <td>16</td>\n",
       "      <td>16</td>\n",
       "    </tr>\n",
       "    <tr>\n",
       "      <th>I</th>\n",
       "      <td>1</td>\n",
       "      <td>4</td>\n",
       "      <td>4</td>\n",
       "      <td>4</td>\n",
       "      <td>1</td>\n",
       "      <td>1</td>\n",
       "      <td>0</td>\n",
       "      <td>0</td>\n",
       "      <td>0</td>\n",
       "      <td>0</td>\n",
       "      <td>0</td>\n",
       "      <td>0</td>\n",
       "      <td>0</td>\n",
       "      <td>0</td>\n",
       "      <td>0</td>\n",
       "      <td>0</td>\n",
       "      <td>0</td>\n",
       "      <td>0</td>\n",
       "      <td>0</td>\n",
       "      <td>0</td>\n",
       "      <td>0</td>\n",
       "      <td>0</td>\n",
       "      <td>0</td>\n",
       "      <td>0</td>\n",
       "      <td>0</td>\n",
       "      <td>0</td>\n",
       "      <td>0</td>\n",
       "      <td>0</td>\n",
       "      <td>0</td>\n",
       "      <td>0</td>\n",
       "    </tr>\n",
       "    <tr>\n",
       "      <th>...</th>\n",
       "      <td>...</td>\n",
       "      <td>...</td>\n",
       "      <td>...</td>\n",
       "      <td>...</td>\n",
       "      <td>...</td>\n",
       "      <td>...</td>\n",
       "      <td>...</td>\n",
       "      <td>...</td>\n",
       "      <td>...</td>\n",
       "      <td>...</td>\n",
       "      <td>...</td>\n",
       "      <td>...</td>\n",
       "      <td>...</td>\n",
       "      <td>...</td>\n",
       "      <td>...</td>\n",
       "      <td>...</td>\n",
       "      <td>...</td>\n",
       "      <td>...</td>\n",
       "      <td>...</td>\n",
       "      <td>...</td>\n",
       "      <td>...</td>\n",
       "      <td>...</td>\n",
       "      <td>...</td>\n",
       "      <td>...</td>\n",
       "      <td>...</td>\n",
       "      <td>...</td>\n",
       "      <td>...</td>\n",
       "      <td>...</td>\n",
       "      <td>...</td>\n",
       "      <td>...</td>\n",
       "    </tr>\n",
       "    <tr>\n",
       "      <th>I</th>\n",
       "      <td>1</td>\n",
       "      <td>1</td>\n",
       "      <td>1</td>\n",
       "      <td>0</td>\n",
       "      <td>0</td>\n",
       "      <td>0</td>\n",
       "      <td>0</td>\n",
       "      <td>0</td>\n",
       "      <td>0</td>\n",
       "      <td>0</td>\n",
       "      <td>0</td>\n",
       "      <td>0</td>\n",
       "      <td>0</td>\n",
       "      <td>0</td>\n",
       "      <td>0</td>\n",
       "      <td>0</td>\n",
       "      <td>0</td>\n",
       "      <td>0</td>\n",
       "      <td>0</td>\n",
       "      <td>0</td>\n",
       "      <td>0</td>\n",
       "      <td>0</td>\n",
       "      <td>0</td>\n",
       "      <td>0</td>\n",
       "      <td>0</td>\n",
       "      <td>0</td>\n",
       "      <td>0</td>\n",
       "      <td>0</td>\n",
       "      <td>0</td>\n",
       "      <td>0</td>\n",
       "    </tr>\n",
       "    <tr>\n",
       "      <th>R</th>\n",
       "      <td>0</td>\n",
       "      <td>0</td>\n",
       "      <td>0</td>\n",
       "      <td>1</td>\n",
       "      <td>1</td>\n",
       "      <td>1</td>\n",
       "      <td>1</td>\n",
       "      <td>1</td>\n",
       "      <td>1</td>\n",
       "      <td>1</td>\n",
       "      <td>1</td>\n",
       "      <td>1</td>\n",
       "      <td>1</td>\n",
       "      <td>1</td>\n",
       "      <td>1</td>\n",
       "      <td>1</td>\n",
       "      <td>1</td>\n",
       "      <td>1</td>\n",
       "      <td>1</td>\n",
       "      <td>1</td>\n",
       "      <td>1</td>\n",
       "      <td>1</td>\n",
       "      <td>1</td>\n",
       "      <td>1</td>\n",
       "      <td>1</td>\n",
       "      <td>1</td>\n",
       "      <td>1</td>\n",
       "      <td>1</td>\n",
       "      <td>1</td>\n",
       "      <td>1</td>\n",
       "    </tr>\n",
       "    <tr>\n",
       "      <th>S</th>\n",
       "      <td>20</td>\n",
       "      <td>20</td>\n",
       "      <td>19</td>\n",
       "      <td>19</td>\n",
       "      <td>18</td>\n",
       "      <td>16</td>\n",
       "      <td>15</td>\n",
       "      <td>15</td>\n",
       "      <td>12</td>\n",
       "      <td>11</td>\n",
       "      <td>11</td>\n",
       "      <td>10</td>\n",
       "      <td>10</td>\n",
       "      <td>10</td>\n",
       "      <td>10</td>\n",
       "      <td>10</td>\n",
       "      <td>10</td>\n",
       "      <td>10</td>\n",
       "      <td>10</td>\n",
       "      <td>10</td>\n",
       "      <td>10</td>\n",
       "      <td>10</td>\n",
       "      <td>10</td>\n",
       "      <td>10</td>\n",
       "      <td>10</td>\n",
       "      <td>10</td>\n",
       "      <td>10</td>\n",
       "      <td>10</td>\n",
       "      <td>10</td>\n",
       "      <td>10</td>\n",
       "    </tr>\n",
       "    <tr>\n",
       "      <th>I</th>\n",
       "      <td>1</td>\n",
       "      <td>1</td>\n",
       "      <td>2</td>\n",
       "      <td>1</td>\n",
       "      <td>2</td>\n",
       "      <td>3</td>\n",
       "      <td>4</td>\n",
       "      <td>3</td>\n",
       "      <td>4</td>\n",
       "      <td>4</td>\n",
       "      <td>4</td>\n",
       "      <td>2</td>\n",
       "      <td>1</td>\n",
       "      <td>1</td>\n",
       "      <td>0</td>\n",
       "      <td>0</td>\n",
       "      <td>0</td>\n",
       "      <td>0</td>\n",
       "      <td>0</td>\n",
       "      <td>0</td>\n",
       "      <td>0</td>\n",
       "      <td>0</td>\n",
       "      <td>0</td>\n",
       "      <td>0</td>\n",
       "      <td>0</td>\n",
       "      <td>0</td>\n",
       "      <td>0</td>\n",
       "      <td>0</td>\n",
       "      <td>0</td>\n",
       "      <td>0</td>\n",
       "    </tr>\n",
       "    <tr>\n",
       "      <th>R</th>\n",
       "      <td>0</td>\n",
       "      <td>0</td>\n",
       "      <td>0</td>\n",
       "      <td>1</td>\n",
       "      <td>1</td>\n",
       "      <td>2</td>\n",
       "      <td>2</td>\n",
       "      <td>3</td>\n",
       "      <td>5</td>\n",
       "      <td>6</td>\n",
       "      <td>6</td>\n",
       "      <td>9</td>\n",
       "      <td>10</td>\n",
       "      <td>10</td>\n",
       "      <td>11</td>\n",
       "      <td>11</td>\n",
       "      <td>11</td>\n",
       "      <td>11</td>\n",
       "      <td>11</td>\n",
       "      <td>11</td>\n",
       "      <td>11</td>\n",
       "      <td>11</td>\n",
       "      <td>11</td>\n",
       "      <td>11</td>\n",
       "      <td>11</td>\n",
       "      <td>11</td>\n",
       "      <td>11</td>\n",
       "      <td>11</td>\n",
       "      <td>11</td>\n",
       "      <td>11</td>\n",
       "    </tr>\n",
       "  </tbody>\n",
       "</table>\n",
       "<p>3000 rows × 30 columns</p>\n",
       "</div>"
      ],
      "text/plain": [
       "    0   1   2   3   4   5   6   7   8   9   10  11  12  13  14  15  16  17  \\\n",
       "S   20  20  20  20  20  20  20  20  20  20  20  20  20  20  20  20  20  20   \n",
       "I    1   1   1   0   0   0   0   0   0   0   0   0   0   0   0   0   0   0   \n",
       "R    0   0   0   1   1   1   1   1   1   1   1   1   1   1   1   1   1   1   \n",
       "S   20  17  17  16  16  16  16  16  16  16  16  16  16  16  16  16  16  16   \n",
       "I    1   4   4   4   1   1   0   0   0   0   0   0   0   0   0   0   0   0   \n",
       "..  ..  ..  ..  ..  ..  ..  ..  ..  ..  ..  ..  ..  ..  ..  ..  ..  ..  ..   \n",
       "I    1   1   1   0   0   0   0   0   0   0   0   0   0   0   0   0   0   0   \n",
       "R    0   0   0   1   1   1   1   1   1   1   1   1   1   1   1   1   1   1   \n",
       "S   20  20  19  19  18  16  15  15  12  11  11  10  10  10  10  10  10  10   \n",
       "I    1   1   2   1   2   3   4   3   4   4   4   2   1   1   0   0   0   0   \n",
       "R    0   0   0   1   1   2   2   3   5   6   6   9  10  10  11  11  11  11   \n",
       "\n",
       "    18  19  20  21  22  23  24  25  26  27  28  29  \n",
       "S   20  20  20  20  20  20  20  20  20  20  20  20  \n",
       "I    0   0   0   0   0   0   0   0   0   0   0   0  \n",
       "R    1   1   1   1   1   1   1   1   1   1   1   1  \n",
       "S   16  16  16  16  16  16  16  16  16  16  16  16  \n",
       "I    0   0   0   0   0   0   0   0   0   0   0   0  \n",
       "..  ..  ..  ..  ..  ..  ..  ..  ..  ..  ..  ..  ..  \n",
       "I    0   0   0   0   0   0   0   0   0   0   0   0  \n",
       "R    1   1   1   1   1   1   1   1   1   1   1   1  \n",
       "S   10  10  10  10  10  10  10  10  10  10  10  10  \n",
       "I    0   0   0   0   0   0   0   0   0   0   0   0  \n",
       "R   11  11  11  11  11  11  11  11  11  11  11  11  \n",
       "\n",
       "[3000 rows x 30 columns]"
      ]
     },
     "execution_count": 21,
     "metadata": {},
     "output_type": "execute_result"
    }
   ],
   "source": [
    "# run a simulation(S0, I0, R0, rec, days, sims, verbose=False, summary=False)\n",
    "\n",
    "sim = simulation(20, 1, 0, 3, 30, 1000, False, True)"
   ]
  },
  {
   "cell_type": "code",
   "execution_count": 22,
   "id": "offshore-teens",
   "metadata": {},
   "outputs": [
    {
     "data": {
      "image/png": "[encoded data removed]",
      "text/plain": [
       "<Figure size 1080x288 with 1 Axes>"
      ]
     },
     "metadata": {
      "needs_background": "light"
     },
     "output_type": "display_data"
    }
   ],
   "source": [
    "# setup dataframe to plot histogram of avg infections per day\n",
    "\n",
    "newdf = sim.loc['I']\n",
    "n_sims = len(newdf)\n",
    "avg_inf_per_day = pd.DataFrame([newdf[i].mean() for i in newdf])\n",
    "avg_inf_per_day.index += 1\n",
    "\n",
    "# plot avg infections per day\n",
    "\n",
    "plt.figure(figsize=(15,4))\n",
    "g = sns.barplot(x =avg_inf_per_day.index , y=avg_inf_per_day[0] , data=avg_inf_per_day, palette = \"YlGnBu_r\")\n",
    "plt.xlabel('Days')\n",
    "plt.ylabel('Average Number of Infected Persons', fontsize=10)\n",
    "plt.title('Average Severity and Duration of Pandemic Flu \\n for {} Simulations'.format(n_sims))\n",
    "\n",
    "for index, row in avg_inf_per_day.iterrows():\n",
    "    g.text(row.name - 1, row[0]+0.025, round(row[0], 2), color='black', ha=\"center\", fontsize=7)\n",
    "\n",
    "plt.show()\n"
   ]
  },
  {
   "cell_type": "code",
   "execution_count": null,
   "id": "minor-paragraph",
   "metadata": {},
   "outputs": [],
   "source": []
  },
  {
   "cell_type": "code",
   "execution_count": null,
   "id": "funded-ecology",
   "metadata": {},
   "outputs": [],
   "source": []
  }
 ],
 "metadata": {
  "kernelspec": {
   "display_name": "Python 3",
   "language": "python",
   "name": "python3"
  },
  "language_info": {
   "codemirror_mode": {
    "name": "ipython",
    "version": 3
   },
   "file_extension": ".py",
   "mimetype": "text/x-python",
   "name": "python",
   "nbconvert_exporter": "python",
   "pygments_lexer": "ipython3",
   "version": "3.7.4"
  }
 },
 "nbformat": 4,
 "nbformat_minor": 5
}
